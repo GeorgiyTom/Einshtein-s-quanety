{
 "cells": [
  {
   "attachments": {},
   "cell_type": "markdown",
   "metadata": {},
   "source": [
    "# Движение перигелия Меркурия - Базовое решение"
   ]
  },
  {
   "attachments": {},
   "cell_type": "markdown",
   "metadata": {},
   "source": [
    "Этот файл является расширением базового решения, которое измеряет и отображает движение предгелия Меркурия.\n",
    "\n",
    "Он расширяет `base_solution.ipynb`, отслеживая местоположение перигелия.\n",
    "Меркурия. Он вычисляет и выводит угол, на который он изменяется.\n",
    "ход симуляции.\n",
    "\n",
    "Критерий остановки моделирования отличается от «base_solution.ipynb». Он использует фиксированный номер\n",
    "оборотов вокруг Солнца вместо фиксированного времени движения."
   ]
  },
  {
   "attachments": {},
   "cell_type": "markdown",
   "metadata": {
    "ExecuteTime": {
     "end_time": "2018-01-12T14:54:06.755848Z",
     "start_time": "2018-01-12T14:54:06.752957Z"
    }
   },
   "source": [
    "## Импортируем VPython"
   ]
  },
  {
   "cell_type": "code",
   "execution_count": null,
   "metadata": {
    "ExecuteTime": {
     "end_time": "2018-01-16T10:21:27.734593Z",
     "start_time": "2018-01-16T10:21:26.537089Z"
    },
    "scrolled": true
   },
   "outputs": [],
   "source": [
    "from vpython import *"
   ]
  },
  {
   "attachments": {},
   "cell_type": "markdown",
   "metadata": {},
   "source": [
    "## Определение параметров и функций"
   ]
  },
  {
   "attachments": {},
   "cell_type": "markdown",
   "metadata": {
    "ExecuteTime": {
     "end_time": "2018-01-12T14:55:04.374817Z",
     "start_time": "2018-01-12T14:55:04.370205Z"
    }
   },
   "source": [
    "Следующие значения параметров вычисляются с использованием https://nssdc.gsfc.nasa.gov/planetary/factsheet"
   ]
  },
  {
   "cell_type": "code",
   "execution_count": null,
   "metadata": {
    "ExecuteTime": {
     "end_time": "2018-01-16T10:21:27.742074Z",
     "start_time": "2018-01-16T10:21:27.737180Z"
    }
   },
   "outputs": [],
   "source": [
    "rM0 = 4.60    # Initial radius of Mercury orbit, in units of R0\n",
    "vM0 = 5.10e-1 # Initial orbital speed of Mercury, in units of R0/T0\n",
    "c_a = 9.90e-1 # Base acceleration of Mercury, in units of R0**3/T0**2\n",
    "rS  = 2.95e-7 # Schwarzschild radius of Sun,in units of R0\n",
    "rL2 = 8.19e-7 # Specific angular momentum, in units of R0**2"
   ]
  },
  {
   "attachments": {},
   "cell_type": "markdown",
   "metadata": {},
   "source": [
    "Поскольку мы хотим визуализировать орбиту Меркурия, нам нужно работать с векторами. Таким образом, начальные векторы положения и скорости ртути определяются выражением"
   ]
  },
  {
   "cell_type": "code",
   "execution_count": null,
   "metadata": {
    "ExecuteTime": {
     "end_time": "2018-01-16T10:21:27.749113Z",
     "start_time": "2018-01-16T10:21:27.745152Z"
    }
   },
   "outputs": [],
   "source": [
    "vec_rM0 = vector(0, rM0, 0) # Initial position vector of Mercury\n",
    "vec_vM0 = vector(vM0, 0, 0) # Initial velocity vector of Mercury"
   ]
  },
  {
   "attachments": {},
   "cell_type": "markdown",
   "metadata": {},
   "source": [
    "Далее мы указываем, как обновлять векторы. Для этого обновления нам нужно вычислить силу, действующую на Меркурий."
   ]
  },
  {
   "cell_type": "code",
   "execution_count": null,
   "metadata": {
    "ExecuteTime": {
     "end_time": "2018-01-16T10:21:27.771887Z",
     "start_time": "2018-01-16T10:21:27.752057Z"
    }
   },
   "outputs": [],
   "source": [
    "def evolve_mercury(vec_rM_old, vec_vM_old, alpha, beta):\n",
    "    \"\"\"\n",
    "    Advance Mercury in time by one step of length dt.\n",
    "    Arguments:\n",
    "         - vec_rM_old: old position vector of Mercury\n",
    "         - vec_vM_old: old velocity vector of Mercury\n",
    "         - alpha: strength of 1/r**3 term in force\n",
    "         - beta: strength of 1/r**4 term in force\n",
    "    Returns:\n",
    "         - vec_rM_new: new position vector of Mercury\n",
    "         - vec_vM_new: new velocity vector of Mercury\n",
    "    \"\"\"\n",
    "\n",
    "    # Compute the factor coming from General Relativity\n",
    "    fact = 1 + alpha * rS / vec_rM_old.mag + beta * rL2 / vec_rM_old.mag**2\n",
    "    # Compute the absolute value of the acceleration\n",
    "    aMS = c_a * fact / vec_rM_old.mag**2\n",
    "    # Multiply by the direction to get the acceleration vector\n",
    "    vec_aMS = - aMS * ( vec_rM_old / vec_rM_old.mag )\n",
    "    # Update velocity vector\n",
    "    vec_vM_new = vec_vM_old + vec_aMS * dt\n",
    "    # Update position vector\n",
    "    vec_rM_new = vec_rM_old + vec_vM_new * dt\n",
    "    return vec_rM_new, vec_vM_new"
   ]
  },
  {
   "attachments": {},
   "cell_type": "markdown",
   "metadata": {},
   "source": [
    "Кроме того, мы хотим измерить угол между векторами. Это делается с помощью следующего определения функции."
   ]
  },
  {
   "cell_type": "code",
   "execution_count": null,
   "metadata": {
    "ExecuteTime": {
     "end_time": "2018-01-16T10:21:27.779828Z",
     "start_time": "2018-01-16T10:21:27.775021Z"
    }
   },
   "outputs": [],
   "source": [
    "def angle_between(v1, v2):\n",
    "    \"\"\"Compute angle between two vectors. Result is in degrees.\"\"\"\n",
    "    return acos( dot(v1, v2) / (v1.mag * v2.mag) ) * 180. / pi"
   ]
  },
  {
   "attachments": {},
   "cell_type": "markdown",
   "metadata": {},
   "source": [
    "Наконец, прежде чем мы начнем моделирование, мы должны указать, как долго оно должно продолжаться, насколько велики временные шаги и какие параметры мы хотим использовать для сил."
   ]
  },
  {
   "cell_type": "code",
   "execution_count": null,
   "metadata": {
    "ExecuteTime": {
     "end_time": "2018-01-16T10:21:27.789194Z",
     "start_time": "2018-01-16T10:21:27.782100Z"
    }
   },
   "outputs": [],
   "source": [
    "dt = 2. * vM0 / c_a / 200 # Time step\n",
    "alpha      = 0.0          # Strength of 1/r**3 term\n",
    "beta       = 1.e5         # Strength of 1/r**4 term\n",
    "vec_r_last = vec_rM0      # Previous position of Mercury\n",
    "turns      = 0            # Number of completed turns\n",
    "max_turns  = 10           # Maximum number of turns\n",
    "list_perih = list()       # List of perihelion locations\n",
    "sum_angle  = 0.           # Angle between first and last perihelion"
   ]
  },
  {
   "attachments": {},
   "cell_type": "markdown",
   "metadata": {},
   "source": [
    "# Визуализация"
   ]
  },
  {
   "cell_type": "code",
   "execution_count": null,
   "metadata": {
    "ExecuteTime": {
     "end_time": "2018-01-16T10:22:17.924003Z",
     "start_time": "2018-01-16T10:21:27.791656Z"
    }
   },
   "outputs": [],
   "source": [
    "# Specify how the output should look like\n",
    "scene            = canvas()             # Create a new scene: this displays the scene below this cell\n",
    "scene.userzoom   = False                # No zoom allowed (for smooth scrolling in notebook)\n",
    "scene.width      = 1024                 # Width of visualization in pixel\n",
    "scene.height     = 1024                 # Height of visualization in pixel\n",
    "scene.background = color.white          # Background color ...\n",
    "scene.center     = vector(0, -2, 0)     # ... and shifted center\n",
    "\n",
    "# Define graphical objects; M = Mercury, S = Sun ...\n",
    "M = sphere(pos=vec_rM0,         radius=0.5,  color=color.red   )\n",
    "S = sphere(pos=vector(0, 0, 0), radius=1.5,  color=color.yellow)\n",
    "# ... and the initial velocities\n",
    "M.velocity = vec_vM0\n",
    "S.velocity = vector(0, 0, 0)\n",
    "\n",
    "# Add a visible trajectory to Mercury\n",
    "M.trajectory = curve(color=color.black, radius=0.005)\n",
    "\n",
    "# Find perihelion for each turn and print it out\n",
    "while turns < max_turns:\n",
    "    vec_r_before_last = vec_r_last\n",
    "    vec_r_last        = vector(M.pos)\n",
    "    # Set the frame rate: shows four earth days at once\n",
    "    rate(1000)\n",
    "    # Update the drawn trajectory with the current position\n",
    "    M.trajectory.append(pos=M.pos)\n",
    "    # Update the velocity and position\n",
    "    M.pos, M.velocity = evolve_mercury(M.pos, M.velocity, alpha, beta)\n",
    "    # Check if just past perihelion\n",
    "    if vec_r_before_last.mag > vec_r_last.mag < M.pos.mag:\n",
    "        turns = turns+1\n",
    "        list_perih.append(vec_r_last)\n",
    "        if turns > 1:\n",
    "            # Draw location of perihelion\n",
    "            sphere(color=color.green, radius=0.2, pos=vec_r_last)\n",
    "            # Display intermediate results (will show up after simulation)\n",
    "            print(\"turn: n={n}, perihelion growth: delta Theta={angle}\".format(\n",
    "                n=turns, angle=angle_between(list_perih[-2], list_perih[-1])\n",
    "            ))\n",
    "            # Note that list_perih[-2] accesses the second last and\n",
    "            #  list_perih[-1] the last element in the list\n",
    "            sum_angle = sum_angle + angle_between(list_perih[-2], list_perih[-1])\n",
    "\n",
    "# Display the average perihelion growth\n",
    "print(\"--------------------------------\")\n",
    "print(\"Average perihelion growth in arc sec per century: delta Theta={avg:1.2f}\".format(\n",
    "    avg=sum_angle/(len(list_perih)-1) * 3. / beta * 3600 * 4.15 * 100 \n",
    "))"
   ]
  }
 ],
 "metadata": {
  "kernelspec": {
   "display_name": "VPython",
   "language": "python",
   "name": "vpython"
  },
  "language_info": {
   "codemirror_mode": {
    "name": "ipython",
    "version": 3
   },
   "file_extension": ".py",
   "mimetype": "text/x-python",
   "name": "python",
   "nbconvert_exporter": "python",
   "pygments_lexer": "ipython3",
   "version": "3.6.4"
  }
 },
 "nbformat": 4,
 "nbformat_minor": 2
}
