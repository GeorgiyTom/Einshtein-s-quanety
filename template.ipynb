{
 "cells": [
  {
   "attachments": {},
   "cell_type": "markdown",
   "metadata": {},
   "source": [
    "# Движение перигелия Меркурия - Базовое решение"
   ]
  },
  {
   "attachments": {},
   "cell_type": "markdown",
   "metadata": {},
   "source": [
    "Этот блокнот содержит шаблон для моделирования орбиты Меркурия.\n",
    "\n",
    "Он настраивает графическое отображение и определяет основные параметры, такие как положение и\n",
    "скорость Меркурия. Он также предоставляет базовую структуру для начала работы программы.\n",
    "быстро.\n",
    "\n",
    "Параметры запуска задаются непосредственно перед циклом while в конце. Они могут быть\n",
    "менялись свободно, но приведенные значения доказали свою эффективность."
   ]
  },
  {
   "attachments": {},
   "cell_type": "markdown",
   "metadata": {},
   "source": [
    "## ToDo list"
   ]
  },
  {
   "attachments": {},
   "cell_type": "markdown",
   "metadata": {},
   "source": [
    "Задачи, которые необходимо выполнить, следующие:\n",
    "1. Завершите функцию evolve_mercury.\n",
    "2. Создайте графические объекты\n",
    "3. Завершите цикл обновления положения ртути."
   ]
  },
  {
   "attachments": {},
   "cell_type": "markdown",
   "metadata": {
    "ExecuteTime": {
     "end_time": "2018-01-12T14:54:06.755848Z",
     "start_time": "2018-01-12T14:54:06.752957Z"
    }
   },
   "source": [
    "## Импортируем VPython"
   ]
  },
  {
   "cell_type": "code",
   "execution_count": null,
   "metadata": {
    "ExecuteTime": {
     "end_time": "2018-01-16T10:24:45.609072Z",
     "start_time": "2018-01-16T10:24:44.199141Z"
    },
    "scrolled": true
   },
   "outputs": [],
   "source": [
    "from vpython import *"
   ]
  },
  {
   "attachments": {},
   "cell_type": "markdown",
   "metadata": {},
   "source": [
    "## Определение параметров и функций"
   ]
  },
  {
   "attachments": {},
   "cell_type": "markdown",
   "metadata": {
    "ExecuteTime": {
     "end_time": "2018-01-12T14:55:04.374817Z",
     "start_time": "2018-01-12T14:55:04.370205Z"
    }
   },
   "source": [
    "Следующие значения параметров вычисляются с использованием https://nssdc.gsfc.nasa.gov/planetary/factsheet"
   ]
  },
  {
   "cell_type": "code",
   "execution_count": null,
   "metadata": {
    "ExecuteTime": {
     "end_time": "2018-01-16T10:24:45.620908Z",
     "start_time": "2018-01-16T10:24:45.616558Z"
    }
   },
   "outputs": [],
   "source": [
    "rM0 = 4.60    # Initial radius of Mercury orbit, in units of R0\n",
    "vM0 = 5.10e-1 # Initial orbital speed of Mercury, in units of R0/T0\n",
    "c_a = 9.90e-1 # Base acceleration of Mercury, in units of R0**3/T0**2\n",
    "rS  = 2.95e-7 # Schwarzschild radius of Sun,in units of R0\n",
    "rL2 = 8.19e-7 # Specific angular momentum, in units of R0**2"
   ]
  },
  {
   "attachments": {},
   "cell_type": "markdown",
   "metadata": {},
   "source": [
    "Поскольку мы хотим визуализировать орбиту Меркурия, нам нужно работать с векторами. Таким образом, начальные векторы положения и скорости ртути определяются выражением"
   ]
  },
  {
   "cell_type": "code",
   "execution_count": null,
   "metadata": {
    "ExecuteTime": {
     "end_time": "2018-01-16T10:24:45.626686Z",
     "start_time": "2018-01-16T10:24:45.622958Z"
    }
   },
   "outputs": [],
   "source": [
    "vec_rM0 = vector(0, rM0, 0) # Initial position vector of Mercury\n",
    "vec_vM0 = vector(vM0, 0, 0) # Initial velocity vector of Mercury"
   ]
  },
  {
   "attachments": {},
   "cell_type": "markdown",
   "metadata": {},
   "source": [
    "Наконец, прежде чем мы начнем моделирование, мы должны указать, как долго оно должно продолжаться, насколько велики временные шаги и какие параметры мы хотим использовать для сил."
   ]
  },
  {
   "cell_type": "code",
   "execution_count": null,
   "metadata": {
    "ExecuteTime": {
     "end_time": "2018-01-16T10:24:45.637519Z",
     "start_time": "2018-01-16T10:24:45.629491Z"
    }
   },
   "outputs": [],
   "source": [
    "dt = 2. * vM0 / c_a / 20  # Time step\n",
    "alpha = 1.e6              # Strength of 1/r**3 term\n",
    "beta = 0.0                # Strength of 1/r**4 term\n",
    "time = 0                  # Current simulation time\n",
    "max_time = 1000*dt        # Maximum simulation time"
   ]
  },
  {
   "attachments": {},
   "cell_type": "markdown",
   "metadata": {},
   "source": [
    "## Задача 1 движение Меркурия"
   ]
  },
  {
   "attachments": {},
   "cell_type": "markdown",
   "metadata": {},
   "source": [
    "Рассчитайте новое положение и скорость Меркурия здесь, с помощью следующей функции.\n",
    "Мы должны указать:\n",
    "\n",
    "`vec_rM_new = ??`\n",
    "\n",
    "`vec_vM_new = ??`\n"
   ]
  },
  {
   "cell_type": "code",
   "execution_count": null,
   "metadata": {
    "ExecuteTime": {
     "end_time": "2018-01-16T10:24:45.651296Z",
     "start_time": "2018-01-16T10:24:45.639661Z"
    }
   },
   "outputs": [],
   "source": [
    "def evolve_mercury(vec_rM_old, vec_vM_old, alpha, beta):\n",
    "    \"\"\"\n",
    "    Advance Mercury in time by one step of length dt.\n",
    "    Arguments:\n",
    "         - vec_rM_old: old position vector of Mercury\n",
    "         - vec_vM_old: old velocity vector of Mercury\n",
    "         - alpha: strength of 1/r**3 term in force\n",
    "         - beta: strength of 1/r**4 term in force\n",
    "    Returns:\n",
    "         - vec_rM_new: new position vector of Mercury\n",
    "         - vec_vM_new: new velocity vector of Mercury\n",
    "    \"\"\"\n",
    "\n",
    "    ### TODO\n",
    "    #  - Calculate new position and velocity of Mercury here.\n",
    "    # vec_rM_new = ??\n",
    "    # vec_vM_new = ??\n",
    "\n",
    "    return vec_rM_new, vec_vM_new"
   ]
  },
  {
   "attachments": {},
   "cell_type": "markdown",
   "metadata": {},
   "source": [
    "# Задачи 2 и 3: Визуализация"
   ]
  },
  {
   "attachments": {},
   "cell_type": "markdown",
   "metadata": {},
   "source": [
    "2. Далее необходимо создать графические объекты, указать их начальные положения и добавить видимую траекторию Меркурия.\n",
    "3. Как только это будет сделано, завершите цикл, обновив Меркурий и нарисовав траекторию."
   ]
  },
  {
   "cell_type": "code",
   "execution_count": null,
   "metadata": {
    "ExecuteTime": {
     "start_time": "2018-01-16T10:24:44.213Z"
    }
   },
   "outputs": [],
   "source": [
    "# Specify how the output should look like\n",
    "scene            = canvas()             # Create a new scene: this displays the scene below this cell\n",
    "scene.userzoom   = False                # No zoom allowed (for smooth scrolling in notebook)\n",
    "scene.width      = 1024                 # Width of visualization in pixel\n",
    "scene.height     = 1024                 # Height of visualization in pixel\n",
    "scene.background = color.white          # Background color ...\n",
    "scene.center     = vector(0, -2, 0)     # ... and shifted center\n",
    "\n",
    "# Define graphical objects; M = Mercury, S = Sun ...\n",
    "S = sphere(pos=vector(0, 0, 0), radius=1.5,  color=color.yellow)\n",
    "### TODO\n",
    "#  - Define graphical Mercury objects that you want to display.\n",
    "#  - Give Mercury initial positions and velocities.\n",
    "#  - Enable drawing of trajectory of Mercury by using the 'curve' object\n",
    "\n",
    "\n",
    "# run the simulation for a given time and draw trajectory\n",
    "while time < max_time:\n",
    "    # set the frame rate: shows four earth days at once\n",
    "    rate(100)\n",
    "    \n",
    "    ### TODO\n",
    "    #  - Append position to trajectory.\n",
    "    #  - Update position and velocity of Mercury (see function evolve_mercury)."
   ]
  }
 ],
 "metadata": {
  "kernelspec": {
   "display_name": "VPython",
   "language": "python",
   "name": "vpython"
  },
  "language_info": {
   "codemirror_mode": {
    "name": "ipython",
    "version": 3
   },
   "file_extension": ".py",
   "mimetype": "text/x-python",
   "name": "python",
   "nbconvert_exporter": "python",
   "pygments_lexer": "ipython3",
   "version": "3.6.4"
  }
 },
 "nbformat": 4,
 "nbformat_minor": 2
}
